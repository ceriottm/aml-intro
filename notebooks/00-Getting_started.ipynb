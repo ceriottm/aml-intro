{
 "cells": [
  {
   "cell_type": "markdown",
   "metadata": {},
   "source": [
    "<p style=\"font-size:32px; font-weight: bolder; text-align: center\"> Atomistic machine learning:<br/>an introduction </p>\n",
    "<p style=\"text-align: center\"><i> authored by: <a href=\"mailto:michele.ceriotti@gmail.com\"> Michele Ceriotti </a></i></p>"
   ]
  },
  {
   "cell_type": "markdown",
   "metadata": {},
   "source": [
    "This course provides a hands-on introduction to the machine-learning techniques, and to\n",
    "their application to chemical and materials modeling. The course covers both the \n",
    "fundamentals and some more advanced techniques, balancing general concepts and \n",
    "techniques that are specific to atomistic modeling. \n",
    "\n",
    "The course is organized as a series of Jupyter notebooks, each covering one module:\n",
    "\n",
    "1. [Linear methods (PCA, ridge regression)](./01-Linear_methods.ipynb)\n",
    "2. [Structural and chemical representations](./02-Representations.ipynb)\n",
    "3. [Equivariant features and regression](./03-Equivariant_regression.ipynb)"
   ]
  },
  {
   "cell_type": "markdown",
   "metadata": {},
   "source": [
    "### Packages and dependencies"
   ]
  },
  {
   "cell_type": "code",
   "execution_count": null,
   "metadata": {
    "tags": []
   },
   "outputs": [],
   "source": [
    "import numpy as np\n",
    "import scipy as sp\n",
    "\n",
    "import matplotlib as mpl\n",
    "import matplotlib.pyplot as plt\n",
    "\n",
    "from ipywidgets import FloatSlider, IntSlider, Checkbox, Dropdown, HBox, Layout, HTML\n",
    "\n",
    "from scwidgets.check import (\n",
    "    Check,\n",
    "    CheckRegistry,\n",
    "    assert_numpy_allclose,\n",
    "    assert_numpy_floating_sub_dtype,\n",
    "    assert_shape,\n",
    "    assert_type,\n",
    ")\n",
    "\n",
    "import ase\n",
    "import chemiscope\n",
    "\n",
    "from scwidgets.code import ParametersPanel, CodeInput\n",
    "from scwidgets.cue import CueObject, CueFigure\n",
    "from scwidgets.exercise import CodeExercise, TextExercise, ExerciseRegistry\n",
    "\n",
    "get_ipython().run_line_magic('matplotlib', 'widget')"
   ]
  },
  {
   "cell_type": "markdown",
   "metadata": {},
   "source": [
    "# Course how-to"
   ]
  },
  {
   "cell_type": "markdown",
   "metadata": {},
   "source": [
    "The course contains a combination of text-book-style explanations, simple mathematical derivations, and interactive widgets in which you need to manipulate functions or atomic structures, and/or enter short snippets of code. The course material is conceived so that minimal amounts of prior knowledge about Python or Jupyter notebooks is needed, but you will have to do _some_ coding. \n",
    " If your Python is rusty, you should look for some online course ortutorials to get up to speed. You don't need to know much about object oriented programming, but you should know enough to initialize a class and use class methods. Looking up examples and documentation online is fine, and even encouraged."
   ]
  },
  {
   "cell_type": "markdown",
   "metadata": {},
   "source": [
    "At the top of each notebook you will find a box to enter your name. This will also be used to create a file in which you can save (and load from) the answers you have given to exercises and text widgets. We suggest to use `SurnameName`, which will lead to a file named `module_XX-SurnameName.json`. If you are looking at these notebooks as part of a formal course, you will be able to send these for grading. \n",
    "\n",
    "_NB: the state of the widgets is not saved automatically, so remember to click \"Save\" once you are done with each exercise._"
   ]
  },
  {
   "cell_type": "code",
   "execution_count": null,
   "metadata": {
    "tags": []
   },
   "outputs": [],
   "source": [
    "exercise_registry = ExerciseRegistry(filename_prefix=\"module_00\")\n",
    "exercise_registry"
   ]
  },
  {
   "cell_type": "code",
   "execution_count": null,
   "metadata": {
    "tags": []
   },
   "outputs": [],
   "source": [
    "check_registry = CheckRegistry()  # this is needed to coordinate code checking"
   ]
  },
  {
   "cell_type": "markdown",
   "metadata": {},
   "source": [
    "Throughout the notebook you will find highlighted paragraphs with a bold number.  These are instructions that you need to follow to answer some exercises, or comment on what you observe in interactive widgets. \n",
    "\n",
    "This might imply typing some open answer commenting the results you are seeing, or reporting the result of some simple derivation. Please keep this as tidy and clean: be concise and to the point, this is to help you collect your thoughts as much as to provide evaluation.  "
   ]
  },
  {
   "cell_type": "code",
   "execution_count": null,
   "metadata": {
    "tags": []
   },
   "outputs": [],
   "source": [
    "answerbox = TextExercise(\n",
    "    description=\"\"\"\n",
    "    For example, this is a box to answer an open question: experiment with \n",
    "    saving and loading the answer: should be pretty intuitive but it's \n",
    "    better to figure it out here. \"\"\",\n",
    "    key=\"00\",\n",
    "    title=\"Text Box Exercise\",\n",
    "    exercise_registry=exercise_registry,\n",
    ")\n",
    "display(answerbox)"
   ]
  },
  {
   "cell_type": "markdown",
   "metadata": {},
   "source": [
    "# Appmode, hide inputs, and dependencies"
   ]
  },
  {
   "cell_type": "markdown",
   "metadata": {},
   "source": [
    "The notebooks work on both Jupyter classic notebooks and in JupyterLab. To help you focus on the content and not on the quirks of building an interactive notebook, they are designed to function without the need for you to enter code into input cells, but only inside dedicated widgets. To avoid being distracted, you can hide the input cells using the *Appmode* Jupyter plugin (for Jupyter classic), which you can activate by clicking on the corresponding button\n",
    "<img src=\"figures/appmode_button.png\" width=\"80\"/>, or the *hide code* extension for JupyterLab, which you can activate clicking the \"hide input\" icon <img src=\"figures/hidecode_button.png\" height=\"20\"/>. After clicking on the \"hide input\" icon, please restart and rerun the notebook by clicking on the <img src=\"figures/rerunnotebook_button.png\" height=\"20\"/> icon. Students with stronger programming background, who want to look \"under the hood\", can look at the source code at any time switching on and off these extensions (NB: save your progress before doing so, as some content might get lost). "
   ]
  },
  {
   "cell_type": "markdown",
   "metadata": {},
   "source": [
    "If you are using these notebooks for a course using your school's jupyter server, you should find yourself in a fully-configured environment, or you should ask the instructor to have it set up for you. If instead you are using them on your own system, you may need to install several prerequisites. In this case, from the main folder, run `pip install -r requirements.txt`, or a similar command with your favourite Python package manager."
   ]
  },
  {
   "cell_type": "markdown",
   "metadata": {},
   "source": [
    "# Interactive widgets"
   ]
  },
  {
   "cell_type": "markdown",
   "metadata": {},
   "source": [
    "The notebooks often contain interactive widgets that can be manipulated by changing some slider values, to visualize the concepts being discussed. Usually these don't require any coding, just to follow some instructions and/or to experiment with the values do develop a more intuitive understanding of the significance of an equation, or to test its limits."
   ]
  },
  {
   "cell_type": "code",
   "execution_count": null,
   "metadata": {
    "tags": []
   },
   "outputs": [],
   "source": [
    "def plot_sine(ax, w, a, abval):\n",
    "    xgrid = np.linspace(0,5,100)\n",
    "    if abval:\n",
    "        ax.plot(xgrid, np.abs(a*np.sin(xgrid*w)))\n",
    "        ax.set_ylabel(r\"$|\\sin x|$\")\n",
    "    else:\n",
    "        ax.plot(xgrid, a*np.sin(xgrid*w))\n",
    "        ax.set_ylabel(r\"$\\sin x$\")\n",
    "    ax.set_xlabel(\"$x$\")\n",
    "\n",
    "sine_parameterbox = ParametersPanel(\n",
    "    w = FloatSlider(value=2.0,min=0,max=10,step=0.1,description=r'$\\omega$'),\n",
    "    a = FloatSlider(value=2.0,min=1,max=100,step=2,description=r'$A$'),\n",
    "    abval=Checkbox(False, description=r'Absolute value')\n",
    ")   \n",
    "\n",
    "sine_fig, sine_ax = plt.subplots(1,1,figsize=(5,3.5))\n",
    "\n",
    "def sine_update(cue_exercise):\n",
    "    w,a,abval = cue_exercise.parameters.values()\n",
    "    axes = cue_exercise.figure.get_axes()[0]  \n",
    "    \n",
    "    plot_sine(axes,w,a,abval)\n",
    "\n",
    "sine_demo = CodeExercise(\n",
    "    parameters=sine_parameterbox,\n",
    "    outputs=sine_fig,\n",
    "    update=sine_update,\n",
    "    update_mode=\"continuous\"\n",
    ") \n"
   ]
  },
  {
   "cell_type": "markdown",
   "metadata": {},
   "source": [
    "The widget displays a sine function $y = A \\sin \\omega x$, that oscillates with a period $2\\pi/\\omega$ amd an amplitude spanning the range $[-A,A]$.\n",
    "Optionally, you can compute (and plot) the absolute value of the function. \n",
    "When you modify the values of the parameters, the plot is automatically updated. "
   ]
  },
  {
   "cell_type": "code",
   "execution_count": null,
   "metadata": {
    "tags": []
   },
   "outputs": [],
   "source": [
    "sine_demo.run_update()\n",
    "display(sine_demo)"
   ]
  },
  {
   "cell_type": "code",
   "execution_count": null,
   "metadata": {
    "tags": []
   },
   "outputs": [],
   "source": [
    "# all the plotting can be contained within the update function\n",
    "def sine_update(ex):\n",
    "    w,a,abval = ex.parameters.values()\n",
    "    ax = ex.figure.get_axes()[0]  \n",
    "\n",
    "    xgrid = np.linspace(0,5,100)\n",
    "    if abval:\n",
    "        ax.plot(xgrid, np.abs(a*np.sin(xgrid*w)))\n",
    "        ax.set_ylabel(r\"$|\\sin x|$\")\n",
    "    else:\n",
    "        ax.plot(xgrid, a*np.sin(xgrid*w))\n",
    "        ax.set_ylabel(r\"$\\sin x$\")\n",
    "    ax.set_xlabel(\"$x$\")\n",
    "    \n",
    "sine_parameterbox_click = ParametersPanel(\n",
    "    w = FloatSlider(value=2.0,min=0,max=10,step=0.1,description=r'$\\omega$'),\n",
    "    a = FloatSlider(value=2.0,min=1,max=100,step=2,description=r'$A$'),\n",
    "    abval=Checkbox(False, description=r'Absolute value')\n",
    ")\n",
    "    \n",
    "sine_output_click =  CueFigure(plt.subplots(1,1,figsize=(5,3.5))[0])\n",
    "\n",
    "sine_demo_click = CodeExercise(\n",
    "            parameters=sine_parameterbox_click,\n",
    "            outputs=sine_output_click,\n",
    "            update=sine_update,\n",
    "            update_mode=\"manual\"       \n",
    ") "
   ]
  },
  {
   "cell_type": "markdown",
   "metadata": {},
   "source": [
    "Some more time-consuming visualizations cannot be updated on-the-fly. In these cases, you'll find an _Update_ button that you can press after you have set all the parameters to your liking. "
   ]
  },
  {
   "cell_type": "code",
   "execution_count": null,
   "metadata": {
    "tags": []
   },
   "outputs": [],
   "source": [
    "display(sine_demo_click)"
   ]
  },
  {
   "cell_type": "code",
   "execution_count": null,
   "metadata": {
    "tags": []
   },
   "outputs": [],
   "source": [
    "structures = [ ase.Atoms(\"OH2\", positions=np.asarray([[0,0,0], [0.7,0.5,0],  [-0.7,0.5,0]])*np.asarray([[0,s1,s2]]).T) for s1 in [0.9,1,1.1,1.2] for s2 in [0.9,1,1.1,1.2] ]\n",
    "properties = np.asarray([(s1, s2, (s1-1)**2+(s2-1)**2) for s1 in [0.9,1,1.1,1.2] for s2 in [0.9,1,1.1,1.2] ] )\n",
    "properties = { \"stretch_1\":  properties[:,0]-1, \"stretch_2\":  properties[:,1]-1, \"energy\" : properties[:,2] }\n",
    "cs = chemiscope.show(structures, properties, meta= {\"name\": \"Water molecules\", \"description\": \"Stretched water molecules with completely made up energy\"},mode=\"structure\")"
   ]
  },
  {
   "cell_type": "markdown",
   "metadata": {},
   "source": [
    "We can also display atomic structures in a dedicated [chemiscope](https://chemiscope.org/) widget. Experiment with the settings for visualizing the structure by clicking on the <img src=\"figures/chemiscopesettings_button.png\" height=\"20\"/> icon. Also try clicking on the structure information <img src=\"figures/chemiscopeinfo_button.png\" height=\"20\"/> field and the play button below the structure panel."
   ]
  },
  {
   "cell_type": "code",
   "execution_count": null,
   "metadata": {
    "tags": []
   },
   "outputs": [],
   "source": [
    "display(cs)"
   ]
  },
  {
   "cell_type": "markdown",
   "metadata": {},
   "source": [
    "Chemiscope also allows to associate a list of properties with the corresponding structures, displaying an interactive map that allows, by clicking, to view the corresponding structure. You can change the visualization settings if you want, and save a snapshot of either the plot or the structure.  "
   ]
  },
  {
   "cell_type": "markdown",
   "metadata": {},
   "source": [
    "# Code widgets"
   ]
  },
  {
   "cell_type": "markdown",
   "metadata": {},
   "source": [
    "Some exercises require inputting short code snippets into a dedicated code widget. This code forms the body of a function, whose return value can then be checked by plotting, or by comparison with known reference values. The function is run as a stand-alone Python code, so you can only use variables and modules that are defined or imported within the code widget. Each code widget has its separate scope."
   ]
  },
  {
   "cell_type": "code",
   "execution_count": null,
   "metadata": {
    "tags": []
   },
   "outputs": [],
   "source": [
    "def exercise_function(x, a, w, f_abs):\n",
    "    \"\"\"\n",
    "    Computes the sine function with a given frequency and amplitude, optionally taking the absolute value\n",
    "\n",
    "    :param x: the input variable\n",
    "    :param a: the amplitude\n",
    "    :param w: the frequency\n",
    "    :param f_abs: bool: take the absolute value?\n",
    "    \n",
    "    :return: abs(a*sin(w x)) if f_abs else a*sin(w x)\n",
    "    \"\"\"\n",
    "    # Write your solution, then click on the button below to update the plotter and check against the reference values\n",
    "    from math import sin\n",
    "    if f_abs:\n",
    "        return abs(a*sin(w*x))\n",
    "    else:\n",
    "        return a*sin(w*x)\n",
    "\n",
    "code_fig = plt.figure()\n",
    "code_fig.add_subplot(111)\n",
    "\n",
    "def code_update(code_example):\n",
    "    w,a,f_abs = code_example.parameters.values()\n",
    "    \n",
    "    ax = code_example.figure.get_axes()[0]\n",
    "    func = code_example.code\n",
    "    xgrid = np.linspace(-10,10,500)    \n",
    "    ygrid = np.asarray([ func(x, a, w, f_abs) for x in xgrid])\n",
    "    ax.plot(xgrid, ygrid, 'b-')\n",
    "    ax.set_xlabel(r\"x\") \n",
    "    ax.set_ylabel(\"y\")\n",
    "    \n",
    "code_parameterbox = ParametersPanel(\n",
    "    w=FloatSlider(value=2.0,min=0,max=10,step=0.1,description=r'$\\omega$'),\n",
    "    a=FloatSlider(value=2.0,min=1,max=100,step=2,description=r'$A$'),\n",
    "    abval=Checkbox(False, description=r'Absolute value')\n",
    ")\n",
    "\n",
    "code_demo = CodeExercise(\n",
    "    code=exercise_function,\n",
    "    check_registry=check_registry,\n",
    "    outputs=code_fig,\n",
    "    parameters=code_parameterbox,\n",
    "    update=code_update,\n",
    "    update_mode=\"manual\",\n",
    "    description=\"\"\"\n",
    "    Nothing to do here - code is already functional - but you can play around to change\n",
    "    it and see what happens!\"\"\",    \n",
    "    key=\"01\",\n",
    "    title=\"Code Box Exercise\",\n",
    "    exercise_registry=exercise_registry,\n",
    ")\n",
    "\n",
    "check_registry.add_check(\n",
    "    code_demo,\n",
    "    inputs_parameters=[\n",
    "        {\"x\" : 2, \"w\":1, \"a\":2, \"f_abs\":False}, \n",
    "        {\"x\" : 1, \"w\":-0.5, \"a\":0.2, \"f_abs\":True},\n",
    "                   ],\n",
    "    outputs_references=[(1.8185948536513634,), (0.0958851077208406,)],\n",
    "    asserts=[\n",
    "        assert_numpy_allclose,\n",
    "    ],\n",
    ")"
   ]
  },
  {
   "cell_type": "markdown",
   "metadata": {},
   "source": [
    "Many of the answers you will have to give involve simple coding exercises. \n",
    "To answer these questions you just need to write a function that performs the task specified. In this case, the function is already written and computes the sine. \n",
    "Often you'll see these exercises associated with a visualizer that displays e.g. the function you compute, helping you understand if there is an error, and just familiarize yourself with the concepts. \n",
    "\n",
    "To help you check whether the code is producing correct results, you will usually also find a _Check_ button, that runs a few tests and returns either a confirmation that the core has run correctly, or some errors that may help you correct mistakes.\n",
    "\n",
    "Finally, remember to _Save_ your code before moving on to the next exercise. "
   ]
  },
  {
   "cell_type": "code",
   "execution_count": null,
   "metadata": {
    "tags": []
   },
   "outputs": [],
   "source": [
    "display(code_demo)"
   ]
  }
 ],
 "metadata": {
  "kernelspec": {
   "display_name": "Python 3 (ipykernel)",
   "language": "python",
   "name": "python3"
  },
  "language_info": {
   "codemirror_mode": {
    "name": "ipython",
    "version": 3
   },
   "file_extension": ".py",
   "mimetype": "text/x-python",
   "name": "python",
   "nbconvert_exporter": "python",
   "pygments_lexer": "ipython3",
   "version": "3.12.3"
  },
  "latex_envs": {
   "LaTeX_envs_menu_present": true,
   "autoclose": false,
   "autocomplete": true,
   "bibliofile": "biblio.bib",
   "cite_by": "apalike",
   "current_citInitial": 1,
   "eqLabelWithNumbers": true,
   "eqNumInitial": 1,
   "hotkeys": {
    "equation": "Ctrl-E",
    "itemize": "Ctrl-I"
   },
   "labels_anchors": false,
   "latex_user_defs": false,
   "report_style_numbering": false,
   "user_envs_cfg": false
  },
  "toc": {
   "base_numbering": 1,
   "nav_menu": {
    "height": "160px",
    "width": "252px"
   },
   "number_sections": true,
   "sideBar": true,
   "skip_h1_title": false,
   "title_cell": "Table of Contents",
   "title_sidebar": "Contents",
   "toc_cell": false,
   "toc_position": {
    "height": "461px",
    "left": "0px",
    "right": "927.667px",
    "top": "107px",
    "width": "139px"
   },
   "toc_section_display": "block",
   "toc_window_display": false
  }
 },
 "nbformat": 4,
 "nbformat_minor": 4
}
