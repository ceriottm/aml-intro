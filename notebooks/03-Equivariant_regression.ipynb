{
 "cells": [
  {
   "cell_type": "markdown",
   "id": "01cc2393-dd0c-42ec-9f19-38160827aa73",
   "metadata": {},
   "source": [
    "<p style=\"font-size:32px; font-weight: bolder; text-align: center\"> Rotations, equivariance and <br/> symmetry-adapted regression </p>\n",
    "<p style=\"text-align: center\"><i> authored by: <a href=\"mailto:michele.ceriotti@gmail.com\"> Michele Ceriotti </a></i></p>"
   ]
  },
  {
   "cell_type": "markdown",
   "id": "7ac2d2ab-0f52-4324-b39d-a890b17d5c86",
   "metadata": {},
   "source": [
    "This notebook discusses the concept of equivariance, with a specific focus on the rotation group. We will learn about Cartesian rotations, spherical harmonics, Wigner matrices.\n",
    "We will see how these concepts apply to some of the equivariant descriptors used in machine learning, and how it is possible to build simple regression models that yield rotationally equivariant predictions for vectorial or tensorial properties."
   ]
  },
  {
   "cell_type": "markdown",
   "id": "e3c62d6f-da0d-49a7-a4c9-48355528d748",
   "metadata": {},
   "source": [
    "### Packages and dependencies\n",
    "This module uses some utility functions from `scipy` and `spherical` to handle rotations, and `rascaline` to compute descriptors. "
   ]
  },
  {
   "cell_type": "code",
   "execution_count": null,
   "id": "9724e7bb-454a-43c8-a477-c5894631be09",
   "metadata": {},
   "outputs": [],
   "source": [
    "%matplotlib widget\n",
    "# scwidgets import\n",
    "import matplotlib as mpl\n",
    "import matplotlib.pyplot as plt\n",
    "import mpl_toolkits.mplot3d as mplot3d\n",
    "import chemiscope\n",
    "\n",
    "import ipywidgets\n",
    "from ipywidgets import FloatSlider, IntSlider, Checkbox, Dropdown, HBox, Layout, HTML, Text\n",
    "\n",
    "from markdown import markdown as mdwn\n",
    "\n",
    "import scwidgets\n",
    "from scwidgets.check import (\n",
    "    Check,\n",
    "    CheckRegistry,\n",
    "    assert_numpy_allclose,\n",
    "    assert_numpy_floating_sub_dtype,\n",
    "    assert_shape,\n",
    "    assert_type,\n",
    ")\n",
    "from scwidgets.code import ParameterPanel, CodeInput\n",
    "from scwidgets.cue import CueObject, CueFigure\n",
    "from scwidgets.exercise import CodeExercise, TextExercise, ExerciseRegistry"
   ]
  },
  {
   "cell_type": "code",
   "execution_count": null,
   "id": "026ea2aa-4d69-43a7-9a21-aabf850ccb68",
   "metadata": {},
   "outputs": [],
   "source": [
    "import numpy as np\n",
    "import ase, ase.io\n",
    "import itertools\n",
    "from copy import deepcopy\n",
    "from tqdm.notebook import tqdm\n",
    "\n",
    "import rascaline\n",
    "from metatensor import mean_over_samples, Labels, TensorMap, TensorBlock, slice_block\n",
    "\n",
    "from sklearn.decomposition import PCA\n",
    "from sklearn.linear_model import RidgeCV\n",
    "\n",
    "import scipy\n",
    "\n",
    "from sphericart import SphericalHarmonics\n",
    "sph = SphericalHarmonics(l_max=8) # initializes sph calculator"
   ]
  },
  {
   "cell_type": "code",
   "execution_count": null,
   "id": "c5aef004-ab3d-4be2-9b49-0f5beb927093",
   "metadata": {},
   "outputs": [],
   "source": [
    "from rotutils import *"
   ]
  },
  {
   "cell_type": "code",
   "execution_count": null,
   "id": "126cb410-5e1e-4d60-994c-bce371670d05",
   "metadata": {},
   "outputs": [],
   "source": [
    "# set CSS style for code-hide\n",
    "scwidgets.get_css_style()"
   ]
  },
  {
   "cell_type": "markdown",
   "id": "a9ab4c73-b3f1-4687-8cc4-09088401baa2",
   "metadata": {},
   "source": [
    "### Answer settings"
   ]
  },
  {
   "cell_type": "code",
   "execution_count": null,
   "id": "b1c68cee-ce1f-4ae7-81c2-ce361a3cc2ea",
   "metadata": {},
   "outputs": [],
   "source": [
    "exercise_registry = ExerciseRegistry(filename_prefix=\"module_03\")\n",
    "exercise_registry"
   ]
  },
  {
   "cell_type": "code",
   "execution_count": null,
   "id": "259e3bc1-c8ea-4ee9-aa1b-8c7c0245e7b0",
   "metadata": {},
   "outputs": [],
   "source": [
    "check_registry = CheckRegistry()\n",
    "check_registry"
   ]
  },
  {
   "cell_type": "code",
   "execution_count": null,
   "id": "e70c5c1c-33ff-4914-8613-eaf6ee23c376",
   "metadata": {},
   "outputs": [],
   "source": [
    "module_summary = TextExercise(\n",
    "    exercise_description=\"\"\"You can use this box to make general considerations, \n",
    "    or keep track of your doubts and questions about this notebook.\"\"\",\n",
    "    exercise_registry=exercise_registry,\n",
    "    exercise_title=\"Module comments\",\n",
    "    exercise_key=\"00\"\n",
    ")\n",
    "display(module_summary)"
   ]
  },
  {
   "cell_type": "markdown",
   "id": "7541080d-f498-47b0-81a6-3878aabbc43b",
   "metadata": {},
   "source": [
    "# The rotation group "
   ]
  },
  {
   "cell_type": "markdown",
   "id": "d485988c-175a-4d78-80c8-086b5b8dd6f7",
   "metadata": {},
   "source": [
    "Rotations describe the changes in the orientation in space of a rigid body relative to a fixed coordinate system. The mathematical description of rotations is notoriously tedious, with a plethora of different conventions that are often applied inconsistently in different works. \n",
    "If you are the kind of person who enjoys this stuff, you this [wikipedia article](https://en.wikipedia.org/wiki/Rotation_formalisms_in_three_dimensions) provides a comprehensive overview. \n",
    "\n",
    "In this exercise we are going to define rotations in terms of [Euler angles](https://en.wikipedia.org/wiki/Euler_angles) in the so-called ZYZ convention, in which the rotation is identified by three angles $(\\alpha, \\beta, \\gamma)$ where $\\alpha$ and $\\gamma$ are periodic and can be chosen in the interval $[-\\pi,\\pi]$, and $\\beta$ in the interval $[0,\\pi]$.\n",
    "\n",
    "To get a grasp of what Euler angles do, and why you need to define three angles to properly characterize the orientation of a structure, you can play around with the following visualization."
   ]
  },
  {
   "cell_type": "code",
   "execution_count": null,
   "id": "6bcf5092-609f-4d5f-8f4c-a66984f27ff1",
   "metadata": {},
   "outputs": [],
   "source": [
    "ex01_pb =  ParameterPanel(\n",
    "    alpha = FloatSlider(value=0,min=-np.pi,max=np.pi,step=0.01,description=r'$\\alpha$'),\n",
    "    beta = FloatSlider(value=0,min=0,max=np.pi,step=0.01,description=r'$\\beta$'),\n",
    "    gamma = FloatSlider(value=0,min=-np.pi,max=np.pi,step=0.01,description=r'$\\gamma$'))"
   ]
  },
  {
   "cell_type": "code",
   "execution_count": null,
   "id": "ac83c08a-3b12-480a-93f3-650f209ea525",
   "metadata": {},
   "outputs": [],
   "source": [
    "ex01_fig = plt.figure(tight_layout=True)\n",
    "ax01 = ex01_fig.add_subplot(111, projection='3d')\n",
    "ex01_cuefig = CueFigure(ex01_fig) \n",
    "\n",
    "theta = np.linspace(0, 2 * np.pi, 20)\n",
    "w = np.linspace(-0.5, 0.5, 10)\n",
    "theta, w = np.meshgrid(theta, w)\n",
    "R = 1\n",
    "x = (R + w * np.cos(theta / 2)) * np.cos(theta)\n",
    "y = (R + w * np.cos(theta / 2)) * np.sin(theta)\n",
    "z = w * np.sin(theta / 2)\n",
    "\n",
    "ex01_xyz =  np.array([x,y,z]).T\n",
    "\n",
    "def update_01(code_exercise):    \n",
    "    alpha, beta, gamma = code_exercise.parameters.values()\n",
    "    cue_figure = code_exercise.cue_outputs[0]\n",
    "    ax = cue_figure.figure.get_axes()[0]\n",
    "    rot = rotation_matrix(alpha,beta,gamma)\n",
    "    (x,y,z) = (ex01_xyz@rot.T).T\n",
    "    ax.set_xlim([-2,2])\n",
    "    ax.set_ylim([-2,2])\n",
    "    ax.set_zlim([-2,2])\n",
    "    dax = 2*np.eye(3)@rot.T    \n",
    "    ax.quiver(0,0,0,*(dax[0]),color='r')\n",
    "    ax.quiver(0,0,0,*(dax[1]),color='g')\n",
    "    ax.quiver(0,0,0,*(dax[2]),color='b')\n",
    "    ax.set_xlabel('X')\n",
    "    ax.set_ylabel('Y')\n",
    "    ax.set_zlabel('Z')\n",
    "    ax.plot_surface(x, y, z, color='gray')\n",
    "    \n",
    "    ax.set_aspect('auto')\n",
    "    cue_figure.figure.subplots_adjust(left=0.0, right=1, top=1, bottom=0.0)\n",
    "\n",
    "ce01 = CodeExercise(\n",
    "            parameters=ex01_pb,\n",
    "            cue_outputs = [ex01_cuefig],\n",
    "            update_func = update_01,\n",
    "            update_mode=\"continuous\")\n",
    "\n",
    "display(ce01)\n",
    "ce01.run_update()"
   ]
  },
  {
   "cell_type": "markdown",
   "id": "4fdc5c92-8ae0-4251-954d-961ed303d30d",
   "metadata": {},
   "source": [
    "A group is a set of endowed with a composition operation. The composition operator is associative, and the set has to be closed under the action of the composition, have an identity element and for each element contain also its inverse. \n",
    "\n",
    "This means that it is possible to combine rotations, and that the composition of two rotations is itself a rotation $\\hat{R}''=\\hat{R}'\\hat{R}$. Rotations are _not_ commutative, so the order of application of the rotation operators matters."
   ]
  },
  {
   "cell_type": "markdown",
   "id": "15cb444b-56d9-43f4-9734-35fe711947d2",
   "metadata": {},
   "source": [
    "## Cartesian rotations"
   ]
  },
  {
   "cell_type": "markdown",
   "id": "c6a6d846-abb7-49ad-8e96-da94173c07bd",
   "metadata": {},
   "source": [
    "In practical terms, a rotation operator $\\hat{R}$ parameterized by the Euler angles acts on a 3D object by applying the corresponding rotation matrix $\\mathbf{R}$ to the Cartesian coordinates of all its points: if a structure $A$ has atomic positions $\\mathbf{r}_i$ (each of these being a 3-vector corresponding to the Cartesian coordinates $(x,y,z)$) then the rotated structure $\\hat{R}A$ has atomic coordinates $\\mathbf{R}\\mathbf{r}_i$. The same transformation is applied to all the properties $\\mathbf{y}$ of $A$ that have a vectorial character, e.g. the dipole moment - so that the dipole of $\\hat{R}A$ is $\\mathbf{R}\\mathbf{y}$. \n",
    "\n",
    "Note also that $SO(3)$ is an _orthogonal_ group, meaning that if $\\mathbf{R}$ is the rotation matrix associated with $\\hat{R}$, the matrix associated with $\\hat{R}^{-1}$ is $\\mathbf{R}^T$, and $\\mathbf{RR}^T=\\mathbf{R}^T\\mathbf{R}$ is the identity. "
   ]
  },
  {
   "cell_type": "markdown",
   "id": "e6b244e3-d97c-419e-9a05-738a9e571a26",
   "metadata": {},
   "source": [
    "Let's consider a dataset that contains a few organic molecules, and for each of them the computed dipole noment $\\boldsymbol{\\mu}$ and polarizability $\\boldsymbol{\\alpha}$. These are structures from the \"showcase\" dataset from ([Yang et al. (2019)](http://doi.org/10.1038/s41597-019-0157-8))."
   ]
  },
  {
   "cell_type": "code",
   "execution_count": null,
   "id": "9c4ab0c2-a98e-408c-90c5-97f9fe90e2f0",
   "metadata": {},
   "outputs": [],
   "source": [
    "frames_alphamu = ase.io.read('data/showcase.xyz', \":\")"
   ]
  },
  {
   "cell_type": "code",
   "execution_count": null,
   "id": "459e9e6a-5cb7-4f26-bbb5-b39b7afa1d56",
   "metadata": {},
   "outputs": [],
   "source": [
    "dipoles_show = chemiscope.ase_vectors_to_arrows(frames_alphamu, \"dipole_ccsd\", scale=0.5)\n",
    "dipoles_show[\"parameters\"][\"global\"][\"color\"]=\"0xff8000\"\n",
    "\n",
    "alphas_show = chemiscope.ase_tensors_to_ellipsoids(frames_alphamu, \"ccsd_pol\", scale=0.2)\n",
    "alphas_show[\"parameters\"][\"global\"][\"color\"]=\"0xff0080\""
   ]
  },
  {
   "cell_type": "code",
   "execution_count": null,
   "id": "d913908e-f58b-467e-86d0-0e9922ac79a5",
   "metadata": {},
   "outputs": [],
   "source": [
    "chemiscope.show(frames=frames_alphamu, \n",
    "                shapes={\n",
    "                    \"mu\": dipoles_show,\n",
    "                    \"alpha\": alphas_show\n",
    "                       },\n",
    "                mode=\"structure\",\n",
    "               settings=chemiscope.quick_settings(structure_settings={\"shape\":\"mu\"})\n",
    "               )"
   ]
  },
  {
   "cell_type": "code",
   "execution_count": null,
   "id": "97adef85-9efb-4a94-a20e-68d2291e79b9",
   "metadata": {},
   "outputs": [],
   "source": [
    "ex02_wci = CodeInput(\n",
    "        function_name=\"rotate_atoms\", \n",
    "        function_parameters=\"positions, dipole, rotm\",\n",
    "        docstring=\"\"\"takes the positions and dipole of a structure and transforms them\n",
    "        according to the given rotation matrix \n",
    "        \n",
    "        :param positions: a (n_atoms,3) array containing the atomic positions\n",
    "        :param dipole: a (3) array containing the dipole components\n",
    "        :param rotm: a (3,3) array containing the rotation matrix\n",
    "        \n",
    "        :returns: (positions, dipole) - a tuple containing the transformed positions and dipole\n",
    "\"\"\",\n",
    "        function_body=\"\"\"\n",
    "\n",
    "# NB: be careful with how you can apply the rotations to the positions array\n",
    "\n",
    "new_positions = positions.copy()\n",
    "new_dipole = dipole.copy()\n",
    "\n",
    "# Apply the rotation here. Be careful with the shape and layout of the arrays\n",
    "\n",
    "return new_positions, new_dipole\n",
    "\"\"\"\n",
    "        )"
   ]
  },
  {
   "cell_type": "code",
   "execution_count": null,
   "id": "c884c143-e484-4506-a5ac-9bcd1cdf6967",
   "metadata": {},
   "outputs": [],
   "source": [
    "def update_02(code_exercise):\n",
    "    output = code_exercise.cue_outputs[0]\n",
    "    output.clear_output()\n",
    "    rots = []\n",
    "    f = frames_alphamu[0]\n",
    "    for r in np.pi*np.array([[0,0,0],[0,0.125,0],[0,0.250,0],[0,0.375,0],[0,0.5,0],\n",
    "                             [0.125,0.5,0],[0.25,0.5,0],[0.375,0.5,0],[0.5,0.5,0],\n",
    "                             [0.5,0.5,0.125],[0.5,0.5,0.25],[0.5,0.5,0.375],[0.5,0.5,0.5]]):\n",
    "        nf = deepcopy(f)\n",
    "        nf.positions, nf.info[\"dipole_ccsd\"] = ex02_wci.get_function_object()(\n",
    "            f.positions, f.info[\"dipole_ccsd\"], rotation_matrix(*r) )\n",
    "        rots.append(nf)\n",
    "    with output:\n",
    "        dipoles_show = chemiscope.ase_vectors_to_arrows(rots, \"dipole_ccsd\", scale=0.5)\n",
    "        dipoles_show[\"parameters\"][\"global\"][\"color\"]=\"0xff8000\"\n",
    "        cs=chemiscope.show(rots, shapes={\n",
    "                    \"mu\": dipoles_show,\n",
    "                },\n",
    "                mode=\"structure\",\n",
    "               settings=chemiscope.quick_settings(structure_settings={\"shape\":\"mu\", \n",
    "                                                                      \"keepOrientation\":True})\n",
    "                          )\n",
    "        cs.save(\"module_02-dipole_rotations.chemiscope.json.gz\")\n",
    "        display(cs)\n",
    "\n",
    "ex02_reference_input = [{'positions':np.array([[0.,0,1],[1,2,0],[3,2,-1]]), \n",
    "                         'dipole':np.array([5.,6,7]),\n",
    "                         'rotm': np.eye(3)},\n",
    "                       {'positions':np.array([[0.,0,1],[1,2,0],[3,2,-1]]), \n",
    "                         'dipole':np.array([5.,6,7]),\n",
    "                         'rotm': rotation_matrix(0,np.pi/2,0)}]\n",
    "ex02_reference_output = [(np.array([[0.,0,1],[1,2,0],[3,2,-1]]),np.array([5.,6,7])),\n",
    "                         (np.array([[ 1.00000000e+00,  0.00000000e+00,  2.22044605e-16],\n",
    "         [ 2.22044605e-16,  2.00000000e+00, -1.00000000e+00],\n",
    "         [-1.00000000e+00,  2.00000000e+00, -3.00000000e+00]]),\n",
    "  np.array([ 7.,  6., -5.]))]\n",
    "ex02_code_demo = CodeExercise(\n",
    "    code= ex02_wci,\n",
    "    check_registry=check_registry,\n",
    "    cue_outputs = [CueObject()],\n",
    "    update_func = update_02,\n",
    "    exercise_key=\"02\",\n",
    "    exercise_registry=exercise_registry,\n",
    "    exercise_title=\"Exercise 02: Moelcular rotations\",\n",
    "    exercise_description=mdwn(\"\"\"\n",
    "Implement a function that gets positions and dipole of a molecule and rotate them according to\n",
    "the provided rotation matrix.\n",
    "\"\"\")\n",
    ")\n",
    "\n",
    "check_registry.add_check(ex02_code_demo,\n",
    "    asserts= [\n",
    "        assert_type,\n",
    "        assert_shape,\n",
    "        assert_numpy_allclose,\n",
    "    ],\n",
    "     inputs_parameters=ex02_reference_input,\n",
    "     outputs_references =ex02_reference_output)"
   ]
  },
  {
   "cell_type": "code",
   "execution_count": null,
   "id": "4d46ddca-bb61-4526-a106-009381197cbb",
   "metadata": {},
   "outputs": [],
   "source": [
    "display(ex02_code_demo)"
   ]
  },
  {
   "cell_type": "markdown",
   "id": "986a5c14-d645-4bf7-b85d-42076d20eef6",
   "metadata": {},
   "source": [
    "[Download chemiscope datafile](./module_02-dipole_rotations.chemiscope.json.gz)"
   ]
  },
  {
   "cell_type": "markdown",
   "id": "7b2c3ff1-7d32-4135-89fd-7ad620dfd40f",
   "metadata": {},
   "source": [
    "There are however more complicated properties than those transforming as vectors. Go back to the dataset viewer, and change the visualizer settings to display the polarizability `alpha`. The polarizability describes the second order response of the energy of a molecule to an applied electric field, i.e.\n",
    "\n",
    "$$\n",
    "\\alpha_{ab} = \\frac{\\partial^2 U}{\\partial E_a \\partial E_b}\n",
    "$$\n",
    "\n",
    "It is therefore a _tensor_ labeled by two Cartesian indices. In order to see how it transforms under rotations, you should consider that a rotation would affect the relation of the reference frame of the molecule to that of _both_ electric field vectors, so one needs to apply _two_ rotation matrices,\n",
    "\n",
    "$$\n",
    "\\boldsymbol{\\alpha}(\\hat{R}A) = \\mathbf{R}\\boldsymbol{\\alpha}(A)\\mathbf{R}^T\n",
    "$$"
   ]
  },
  {
   "cell_type": "code",
   "execution_count": null,
   "id": "3a097c22-74e8-41c6-ab99-f35fd3a30d86",
   "metadata": {},
   "outputs": [],
   "source": [
    "ex03_wci = CodeInput(\n",
    "        function_name=\"rotate_atoms_pol\", \n",
    "        function_parameters=\"positions, alpha, rotm\",\n",
    "        docstring=\"\"\"takes the positions and polarizability of a structure and transforms \n",
    "        them according to the given rotation matrix \n",
    "        \n",
    "        :param positions: a (n_atoms,3) array containing the atomic positions\n",
    "        :param alpha: a (3,3) matrix containing the polarizability\n",
    "        :param rotm: a (3,3) array containing the rotation matrix\n",
    "        \n",
    "        :returns: (positions, alpha) - a tuple containing the transformed positions and polarizability\n",
    "\"\"\",\n",
    "        function_body=\"\"\"\n",
    "\n",
    "# NB: be careful with how you can apply the rotations to the positions array\n",
    "\n",
    "new_positions = positions.copy()\n",
    "new_alpha = alpha.copy()\n",
    "\n",
    "# Apply the rotation here. Be careful with the shape and layout of the arrays\n",
    "\n",
    "return new_positions, new_alpha\n",
    "\"\"\"\n",
    "        )"
   ]
  },
  {
   "cell_type": "code",
   "execution_count": null,
   "id": "5b939b94-4f6b-456e-a05b-836e1665fa0b",
   "metadata": {},
   "outputs": [],
   "source": [
    "def update_03(code_exercise):\n",
    "    output = code_exercise.cue_outputs[0]\n",
    "    output.clear_output()\n",
    "    rots = []\n",
    "    f = frames_alphamu[0]\n",
    "    for r in np.pi*np.array([[0,0,0],[0,0.125,0],[0,0.250,0],[0,0.375,0],[0,0.5,0],\n",
    "                             [0.125,0.5,0],[0.25,0.5,0],[0.375,0.5,0],[0.5,0.5,0],\n",
    "                             [0.5,0.5,0.125],[0.5,0.5,0.25],[0.5,0.5,0.375],[0.5,0.5,0.5]]):\n",
    "        nf = deepcopy(f)\n",
    "        pol = nf.info[\"ccsd_pol\"]\n",
    "        pol = np.array([[pol[0], pol[3], pol[4]],[pol[3], pol[1], pol[5]],[pol[4], pol[5], pol[2]]])\n",
    "        nf.positions, pol = ex03_wci.get_function_object()(\n",
    "            nf.positions, pol, rotation_matrix(*r) )\n",
    "        nf.info[\"ccsd_pol\"][:] = [ pol[0,0], pol[1,1], pol[2,2], pol[0,1], pol[0,2], pol[1,2]] \n",
    "        rots.append(nf)\n",
    "    with output:\n",
    "        alphas_show = chemiscope.ase_tensors_to_ellipsoids(rots, \"ccsd_pol\", scale=0.2)\n",
    "        alphas_show[\"parameters\"][\"global\"][\"color\"]=\"0xff0080\"\n",
    "        cs=chemiscope.show(rots, shapes={\n",
    "                    \"alpha\": alphas_show,\n",
    "                },\n",
    "                mode=\"structure\",\n",
    "               settings=chemiscope.quick_settings(structure_settings={\"shape\":\"alpha\", \n",
    "                                                                      \"keepOrientation\":True})\n",
    "                          )\n",
    "        cs.save(\"module_02-alpha_rotations.chemiscope.json.gz\")\n",
    "        display(cs)\n",
    "\n",
    "ex03_reference_input = [{'positions':np.array([[0.,0,1],[1,2,0],[3,2,-1]]), \n",
    "                         'alpha':np.array([[5.,1,1],[1,3,0],[1,0,4]]),\n",
    "                         'rotm': np.eye(3)},\n",
    "                       {'positions':np.array([[0.,0,1],[1,2,0],[3,2,-1]]), \n",
    "                         'alpha':np.array([[8.,-1,1],[-1,9,0],[1,0,4]]),\n",
    "                         'rotm': rotation_matrix(0,np.pi/2,0)}]\n",
    "ex03_reference_output = [(np.array([[ 0.,  0.,  1.],\n",
    "         [ 1.,  2.,  0.],\n",
    "         [ 3.,  2., -1.]]),\n",
    "  np.array([[5., 1., 1.],\n",
    "         [1., 3., 0.],\n",
    "         [1., 0., 4.]])),\n",
    " (np.array([[ 1.00000000e+00,  0.00000000e+00,  2.22044605e-16],\n",
    "         [ 2.22044605e-16,  2.00000000e+00, -1.00000000e+00],\n",
    "         [-1.00000000e+00,  2.00000000e+00, -3.00000000e+00]]),\n",
    "  np.array([[ 4.00000000e+00, -2.22044605e-16, -1.00000000e+00],\n",
    "         [-2.22044605e-16,  9.00000000e+00,  1.00000000e+00],\n",
    "         [-1.00000000e+00,  1.00000000e+00,  8.00000000e+00]]))]\n",
    "\n",
    "ex03_code_demo = CodeExercise(\n",
    "    code= ex03_wci,\n",
    "    check_registry=check_registry,\n",
    "    cue_outputs = [CueObject()],\n",
    "    update_func = update_03,\n",
    "    exercise_key=\"03\",\n",
    "    exercise_registry=exercise_registry,\n",
    "    exercise_title=\"Exercise 03: Tensor rotations\",\n",
    "    exercise_description=mdwn(\"\"\"\n",
    "Implement a function that gets positions and polarizability of a molecule and rotates \n",
    "them according to the provided rotation matrix.\n",
    "\"\"\")\n",
    ")\n",
    "\n",
    "check_registry.add_check(ex03_code_demo,\n",
    "    asserts= [\n",
    "        assert_type,\n",
    "        assert_shape,\n",
    "        assert_numpy_allclose,\n",
    "    ],\n",
    "     inputs_parameters=ex03_reference_input,\n",
    "     outputs_references =ex03_reference_output)"
   ]
  },
  {
   "cell_type": "code",
   "execution_count": null,
   "id": "8987a6bd-e17f-4297-8b9d-b7aad9101b2e",
   "metadata": {},
   "outputs": [],
   "source": [
    "display(ex03_code_demo)"
   ]
  },
  {
   "cell_type": "markdown",
   "id": "f31c0060-084d-4172-980c-941175bb646a",
   "metadata": {},
   "source": [
    "[Download chemiscope datafile](./module_02-alpha_rotations.chemiscope.json.gz)"
   ]
  },
  {
   "cell_type": "markdown",
   "id": "f9c73efe-af80-4583-b7ca-1f9e032e0d71",
   "metadata": {},
   "source": [
    "## Rotating tensors"
   ]
  },
  {
   "cell_type": "markdown",
   "id": "c824c599-3771-4f8e-8750-1b786ccaac2f",
   "metadata": {},
   "source": [
    "The action of rotations on a Cartesian tensorial quantity can always be formulated as a matrix-vector multiplication, by \"unrolling\" the tensor and combining multiple rotation matrices together, e.g.\n",
    "\n",
    "$$\n",
    "\\alpha_{(ab)} = \\sum_{(a'b')} R_{(ab)(a'b')} \\alpha_{(a'b')}\n",
    "$$\n",
    "\n",
    "where $R_{(ab)(a'b')}=R_{aa'}R_{bb'}$.  "
   ]
  },
  {
   "cell_type": "markdown",
   "id": "3de9322d-7bc8-4a45-919b-f5f619b8f81b",
   "metadata": {},
   "source": [
    "In the visualization below you can see how the elements of the combined rotation matrix change with the Euler angles. "
   ]
  },
  {
   "cell_type": "code",
   "execution_count": null,
   "id": "1c88f57d-d15d-4a42-b517-40d7181188db",
   "metadata": {},
   "outputs": [],
   "source": [
    "ex04_pb =  ParameterPanel(\n",
    "    alpha = FloatSlider(value=0,min=-np.pi,max=np.pi,step=0.01,description=r'$\\alpha$'),\n",
    "    beta = FloatSlider(value=0,min=0,max=np.pi,step=0.01,description=r'$\\beta$'),\n",
    "    gamma = FloatSlider(value=0,min=-np.pi,max=np.pi,step=0.01,description=r'$\\gamma$'))\n",
    "\n",
    "ex04_fig = plt.figure(tight_layout=True)\n",
    "ax04 = ex04_fig.add_subplot(111)\n",
    "ex04_cuefig = CueFigure(ex04_fig) \n",
    "\n",
    "ex04_cbar = None\n",
    "def update_04(code_exercise):\n",
    "    global ex04_cbar\n",
    "    alpha, beta, gamma = code_exercise.parameters.values()\n",
    "    cue_figure = code_exercise.cue_outputs[0]\n",
    "    ax = cue_figure.figure.get_axes()[0]\n",
    "    rot = rotation_matrix(alpha,beta,gamma)\n",
    "    ROT = np.einsum(\"ab,cd->acbd\",rot, rot).reshape(9,9)\n",
    "    \n",
    "    fig = code_exercise.cue_outputs[0].figure\n",
    "    ax = fig.get_axes()[0]\n",
    "\n",
    "    cax=ax.matshow(ROT, cmap='seismic', vmin=-1, vmax=1)\n",
    "    if ex04_cbar is None:\n",
    "        ex04_cbar = fig.colorbar(cax, ax=ax, orientation='vertical' )\n",
    "    else:\n",
    "        ex04_cbar.update_normal(cax)\n",
    "\n",
    "    ax.set_xlabel(\"(ab)\")\n",
    "    ax.set_ylabel(\"(a'b')\")    "
   ]
  },
  {
   "cell_type": "code",
   "execution_count": null,
   "id": "a6300403-ee29-4ab5-bb8f-303d08ea8a11",
   "metadata": {},
   "outputs": [],
   "source": [
    "ex04_code_demo = CodeExercise(\n",
    "            parameters= ex04_pb,            \n",
    "            cue_outputs = [ex04_cuefig],\n",
    "            update_func = update_04,\n",
    "    update_mode=\"continuous\",\n",
    "    #exercise_key=\"04\",\n",
    "    #exercise_registry=exercise_registry,\n",
    "    exercise_title=\"Exercise 04\",\n",
    "    exercise_description=mdwn(\"\")\n",
    ")\n",
    "\n",
    "display(ex04_code_demo)\n",
    "ex04_code_demo.run_update()"
   ]
  },
  {
   "cell_type": "code",
   "execution_count": null,
   "id": "a5dc80fd-4a49-46c1-9626-a120f8f68c64",
   "metadata": {},
   "outputs": [],
   "source": [
    "ex04_txt = TextExercise(\n",
    "    exercise_description=\"\"\"\n",
    "Play around with the parameters. Does the matrix have any obvious structure? \n",
    "How many multiplications would you have to perform to rotate the polarizability \n",
    "using the tensorial (two rotations) notation? And how about the combined (single matrix)\n",
    "case?\"\"\",\n",
    "    exercise_registry=exercise_registry,\n",
    "    exercise_key=\"04\",\n",
    "    exercise_title=\"\"\n",
    ")\n",
    "display(ex04_txt)"
   ]
  },
  {
   "cell_type": "code",
   "execution_count": null,
   "id": "a581447b-a14c-41fd-8d2f-d3119ae38a1b",
   "metadata": {},
   "outputs": [],
   "source": [
    "ex04b_txt = TextExercise(\n",
    "    exercise_description=mdwn(r\"\"\"\n",
    "Given we have seen there are different ways to transform a tensor such as the \n",
    "polarizability, we can wonder if there are _better_ ways to apply a rotation to a tensor.\n",
    "For example, consider the _trace_ of the polarizability, $\\alpha_{xx}+\\alpha_{yy}+\\alpha_{zz}$.\n",
    "How does it transform under rotations?\"\"\"),\n",
    "    exercise_registry=exercise_registry,\n",
    "    exercise_key=\"04b\",\n",
    "    exercise_title=\"Polarizability trace\"\n",
    ")\n",
    "display(ex04b_txt)"
   ]
  },
  {
   "cell_type": "markdown",
   "id": "c70bd2e9-994e-4bdc-8741-86ee68743191",
   "metadata": {},
   "source": [
    "## Rotations and spherical harmonics"
   ]
  },
  {
   "cell_type": "markdown",
   "id": "6d83b15d-7baf-4c4f-a04c-a271df1631c4",
   "metadata": {},
   "source": [
    "[Spherical harmonics](https://en.wikipedia.org/wiki/Spherical_harmonics) are special functions of the polar angles $(\\theta, \\phi)$ that can be obtained as the orthogonal solutions of the Laplacian eigenvalue problem on the sphere $\\nabla^2 Y^m_l(\\theta, \\phi) = \\epsilon_l Y^m_l(\\theta, \\phi)$. The spherical harmonics are indexed by two integers, $l\\ge 0$ and $-l\\le m \\le l$. \n",
    "Much as for rotations, there are many different convention used when defining spherical harmonics. We use real valued spherical harmonics, which are the same used in the construction of the density expansion features. "
   ]
  },
  {
   "cell_type": "code",
   "execution_count": null,
   "id": "31a9b7ca-f459-45e7-b240-ad9a043ab19f",
   "metadata": {},
   "outputs": [],
   "source": [
    "# Define the resolution of the sphere\n",
    "num_points = 40\n",
    "\n",
    "# Create the angles\n",
    "theta = np.linspace(0, np.pi, num_points)\n",
    "phi =   np.linspace(0, 2*np.pi, 2*num_points)\n",
    "theta, phi = np.meshgrid(theta, phi)\n",
    "\n",
    "# Convert to Cartesian coordinates\n",
    "x = np.sin(theta) * np.cos(phi)\n",
    "y = np.sin(theta) * np.sin(phi)\n",
    "z = np.cos(theta)\n",
    "\n",
    "ex05_xyz =  np.array([x,y,z])\n",
    "\n",
    "# Define a function on the sphere\n",
    "# Example function: cos(theta) + sin(phi)\n",
    "ex05_sph = sph.compute(ex05_xyz.T.reshape(-1,3)).reshape(theta.shape[1], theta.shape[0], -1).T"
   ]
  },
  {
   "cell_type": "code",
   "execution_count": null,
   "id": "fc0d7138-1f27-4f14-b500-d6bc7a862de1",
   "metadata": {},
   "outputs": [],
   "source": [
    "ex05_mslider = IntSlider(value=0,min=0,max=8,step=1,description=r'$m$')\n",
    "ex05_pb =  ParameterPanel(\n",
    "    l = IntSlider(value=1,min=0,max=8,step=1,description=r'$l$'),\n",
    "    m = ex05_mslider\n",
    ")\n",
    "\n",
    "ex05_fig = plt.figure(tight_layout=True)\n",
    "ax05 = ex05_fig.add_subplot(111, projection='3d')\n",
    "ex05_cuefig = CueFigure(ex05_fig) \n",
    "\n",
    "def update_05(code_exercise):    \n",
    "    l, m = code_exercise.parameters.values()\n",
    "    # updates the range of the m slider\n",
    "    ex05_mslider.min = -l \n",
    "    ex05_mslider.max = l\n",
    "    if m>l: \n",
    "        m=l\n",
    "    if m<-l:\n",
    "        m=-l\n",
    "    cue_figure = code_exercise.cue_outputs[0]\n",
    "    ax = cue_figure.figure.get_axes()[0]\n",
    "    ax.set_xlim([-1.0,1.0])\n",
    "    ax.set_ylim([-1.0,1.0])\n",
    "    ax.set_zlim([-1.0,1.0])\n",
    "    \n",
    "    color_map = lambda x:  mpl.colormaps['seismic']((x-x.min())/(1e-15+x.max()-x.min()))\n",
    "    x,y,z = ex05_xyz\n",
    "    lm=l*l+l+m\n",
    "    # Plot the sphere with colors\n",
    "    ax.plot_surface(x, y, z, rstride=1, antialiased=True,\n",
    "                    cstride=1, shade=True, facecolors=color_map(ex05_sph[lm]) )\n",
    "    ax.set_axis_off()\n",
    "    ax.set_aspect('auto')\n",
    "    cue_figure.figure.subplots_adjust(left=0.0, right=1, top=1, bottom=0.0)\n",
    "    \n",
    "ce05 = CodeExercise(\n",
    "            parameters=ex05_pb,\n",
    "            cue_outputs = [ex05_cuefig],\n",
    "            update_func = update_05,\n",
    "            update_mode=\"continuous\")"
   ]
  },
  {
   "cell_type": "markdown",
   "id": "fef2ff8f-d970-4f3f-998e-06f4c81a6379",
   "metadata": {},
   "source": [
    "Use the viewer below to visualize different spherical harmonics. Spherical harmonics are connected to the solution of the Schrödinger equation in a central potential, and more broadly to the definition of angular momentum in quantum mechanics. "
   ]
  },
  {
   "cell_type": "code",
   "execution_count": null,
   "id": "ac096e89-65d3-43ec-9287-eca9c0eb12f1",
   "metadata": {},
   "outputs": [],
   "source": [
    "display(ce05)\n",
    "ce05.run_update()"
   ]
  },
  {
   "cell_type": "markdown",
   "id": "a9c49f8a-23a1-4351-b554-00153aa8c82a",
   "metadata": {},
   "source": [
    "Spherical harmonics are also special because of their connection with the properties of the rotation group. In fact, it is possible to define special matrix-valued functions (the [Wigner D matrices](https://en.wikipedia.org/wiki/Wigner_D-matrix#Relation_to_spherical_harmonics_and_Legendre_polynomials) $D^l_{mm'}(\\hat{R})$) that describe how spherical harmonics transform under rotations. \n",
    "\n",
    "Essentially, all the spherical harmonics with the same $l$ should be treated as a vector, and then \n",
    "\n",
    "$$\n",
    "Y^m_l(\\hat{R}\\theta, \\hat{R}\\phi) = \\sum_{m'}D^l_{mm'}(\\hat{R}) Y^{m'}_l(\\theta,\\phi)\n",
    "$$"
   ]
  },
  {
   "cell_type": "markdown",
   "id": "61b47331-2f23-4862-a39a-b9cf17887351",
   "metadata": {},
   "source": [
    "We are going to see how this can be realized by writing a function that takes a list of 3-vectors that are points on the surface of a sphere, and use a utility function (a wrapper to the `sphericart` library) to compute the spherical harmonics for the initial and rotated points, and apply the rotation directly to the spherical harmonics using the Wigner matrix for the rotation."
   ]
  },
  {
   "cell_type": "code",
   "execution_count": null,
   "id": "44127a87-2aba-4c10-8b86-25695939e5cf",
   "metadata": {},
   "outputs": [],
   "source": [
    "def spherical_harmonics(l, r):\n",
    "    return sph.compute(r)[:,l**2:(l+1)**2]\n",
    "ex06_wci = CodeInput(\n",
    "        function_name=\"rotate_ylm\", \n",
    "        function_parameters=\"xyz, rotm, wigd, spherical_harmonics\",\n",
    "        docstring=\"\"\"computes rotated spherical harmonics in two different ways, \n",
    "        first by rotating the input positions, and then by rotating the spherical \n",
    "        harmonics computed at the initial positions. \n",
    "        \n",
    "        :param xyz: a (n,3) array containing the positions at which to \n",
    "             compute the spherical harmonics\n",
    "        :param rotm: a (3,3) array containing the rotation matrix\n",
    "        :param wigd: a (2l+1,2l+1) array containing the wigner D matrix\n",
    "        :param spherical_harmonics: a function of (l, xyz) that computes the spherical\n",
    "             harmonics, returning a (n, 2l+1) array\n",
    "        :returns: (rylm1, rylm2) - a tuple containing the spherical harmonics computed\n",
    "             using Ylm(R xyz) and Dlm Ylm(R)\n",
    "\"\"\",\n",
    "        function_body=\"\"\"\n",
    "\n",
    "l = (wigd.shape[0]-1)//2   # guesses the order of Ylm from the shape of Dl\n",
    "ylm = spherical_harmonics(l, xyz)\n",
    "\n",
    "rxyz = xyz   # <--- apply rotation here\n",
    "rylm_1 = spherical_harmonics(l, rxyz)\n",
    "\n",
    "rylm_2 = ylm  # <--- apply rotation here\n",
    "\n",
    "return rylm_1, rylm_2\n",
    "\"\"\"\n",
    ")"
   ]
  },
  {
   "cell_type": "code",
   "execution_count": null,
   "id": "79e49dea-931b-4c6e-ba14-c74a2c7001c8",
   "metadata": {},
   "outputs": [],
   "source": [
    "ex06_mslider = IntSlider(value=0,min=0,max=8,step=1,description=r'$m$')\n",
    "ex06_pb =  ParameterPanel(\n",
    "    l = IntSlider(value=1,min=0,max=8,step=1,description=r'$l$'),\n",
    "    m = ex06_mslider,\n",
    "    alpha = FloatSlider(value=0,min=-np.pi,max=np.pi,step=0.01,description=r'$\\alpha$'),\n",
    "    beta = FloatSlider(value=0,min=0,max=np.pi,step=0.01,description=r'$\\beta$'),\n",
    "    gamma = FloatSlider(value=0,min=-np.pi,max=np.pi,step=0.01,description=r'$\\gamma$'),\n",
    ")\n",
    "\n",
    "ex06_fig = plt.figure(tight_layout=True)\n",
    "ax061 = ex06_fig.add_subplot(121, projection='3d')\n",
    "ax062 = ex06_fig.add_subplot(122, projection='3d')\n",
    "ex06_cuefig = CueFigure(ex06_fig) \n",
    "for ax in [ax061, ax062]:\n",
    "    ax.mouse_init(rotate_btn=None, pan_btn=None, zoom_btn=None)\n",
    "    ax.set_xlim([-1.0,1.0])\n",
    "    ax.set_ylim([-1.0,1.0])\n",
    "    ax.set_zlim([-1.0,1.0])\n",
    "    ax.set_axis_off()\n",
    "\n",
    "ex06_xyz = ex05_xyz\n",
    "\n",
    "def update_06(code_exercise):    \n",
    "    l, m, alpha, beta, gamma = code_exercise.parameters.values()\n",
    "    # updates the range of the m slider\n",
    "    ex06_mslider.min = -l \n",
    "    ex06_mslider.max = l\n",
    "    if m>l: \n",
    "        m=l\n",
    "    if m<-l:\n",
    "        m=-l\n",
    "    cue_figure = code_exercise.cue_outputs[0]\n",
    "    ax1, ax2 = cue_figure.figure.get_axes()[:2]\n",
    "        \n",
    "    color_map = lambda x:  mpl.colormaps['seismic']((x-x.min())/(1e-15+x.max()-x.min()))\n",
    "    shape = ex06_xyz.shape \n",
    "    x, y, z = ex06_xyz\n",
    "    xyz = ex06_xyz.reshape(3, -1).T\n",
    "    rotm = rotation_matrix(alpha, beta, gamma)\n",
    "    wigd = wigner_d_real(l, alpha, beta, gamma)\n",
    "    \n",
    "    rlm1, rlm2 = ex06_wci.get_function_object()(xyz, rotm, wigd, spherical_harmonics)\n",
    "    \n",
    "    ax1.plot_surface(x, y, z, rstride=1, antialiased=True,\n",
    "                    cstride=1, shade=True, facecolors=color_map(rlm1[:,l+m].reshape(shape[1:]) ) )\n",
    "    ax2.plot_surface(x, y, z, rstride=1, antialiased=True,\n",
    "                    cstride=1, shade=True, facecolors=color_map(rlm2[:,l+m].reshape(shape[1:]) ) )\n",
    "    for ax in [ax1, ax2]:\n",
    "        ax.set_xlim([-1.0,1.0])\n",
    "        ax.set_ylim([-1.0,1.0])\n",
    "        ax.set_zlim([-1.0,1.0])\n",
    "        ax.set_axis_off()\n",
    "        \n",
    "ce06 = CodeExercise(\n",
    "            code=ex06_wci,\n",
    "            parameters=ex06_pb,\n",
    "            cue_outputs = [ex06_cuefig],\n",
    "            update_func = update_06,\n",
    "            update_mode=\"manual\",\n",
    "    exercise_key=\"06\",\n",
    "    exercise_registry=exercise_registry,\n",
    "    exercise_title=\"Exercise 06: Two ways of rotating spherical harmonics\",\n",
    "    exercise_description=mdwn(r\"\"\"Write a function that computes spherical harmonics\n",
    "    in a rotated reference frame, by rotating the position at which the $Y^m_l$ are \n",
    "    evaluated, and by rotating the set of spherical harmonics computed at the initial \n",
    "    location. \"\"\")\n",
    ")"
   ]
  },
  {
   "cell_type": "code",
   "execution_count": null,
   "id": "f2608a72-fe64-43c2-afe2-9f76755446ff",
   "metadata": {},
   "outputs": [],
   "source": [
    "display(ce06)"
   ]
  },
  {
   "cell_type": "markdown",
   "id": "2d0fd552-a6d6-411e-9565-570ac377a0c9",
   "metadata": {},
   "source": [
    "## Irreducible representations\n",
    "\n",
    "Wigner $D$ matrices have a very important property, that makes them central in the theory and practice of $SO(3)$: given a set of objects that transform under rotations (e.g. the entries in the polarizability tensor) it is possible to determine linear combinations of those entries that transform under rotations as with the application of a Wigner matrix. \n",
    "\n",
    "What is more, these special linear combinations are the _smallest_ possible sets of quantities that are mixed by a rotation, and it is not possible to simplify them any further. We have already encountered an example of such linear transformation: the trace of the polarizability is (proportional to) the linear combination that is constant (i.e. that is transformed by $D^0_{00}=1$). More generally any product of Cartesian components can be transformed into blocks that transform as spherical harmonics.\n",
    "\n",
    "Performing these transformations is rather tedious (as they depend on the convention used to define the Wigner matrices) so you'll have to trust the implementation provided with this exercise. `cart2sph` takes a Cartesian tensor and transforms it into a 9-vector in which the first element transforms as a $l=0$ spherical harmonics, the elements `[1:4]` as $l=1$, and `[4:9]` as $l=2$. "
   ]
  },
  {
   "cell_type": "markdown",
   "id": "7a4e1350-ef78-4729-b6d3-6f262790540c",
   "metadata": {},
   "source": [
    "```python\n",
    "print(alpha)\n",
    "print(cart2sph(alpha))\n",
    "```"
   ]
  },
  {
   "cell_type": "code",
   "execution_count": null,
   "id": "e73ea5de-ffc1-4dda-b910-f54e2b3dd285",
   "metadata": {},
   "outputs": [],
   "source": [
    "alpha = six2cart(frames_alphamu[0].info[\"ccsd_pol\"])\n",
    "print(alpha)\n",
    "print(cart2sph(alpha))"
   ]
  },
  {
   "cell_type": "markdown",
   "id": "1a1833f4-f29a-4296-af98-8c9a0483b43e",
   "metadata": {},
   "source": [
    "Note that the $l=1$ terms are zero; this is because the polarizability is a _symmetric_ tensor, and has only six independent entries: the asymmetric part of the tensor would be transformed into an $l=1$ block.\n",
    "\n",
    "Rotating a vector in this form can be achieved by a _block diagonal_ matrix with Wigner $D$ matrices on the diagonal. Obviously the whole point of expressing a tensor in its irreducible form is to manipulate separately the different blocks, but the following visualization displays the block-diagonal form, to be compared with the $9\\times 9 $ transformation in Exercise 04. "
   ]
  },
  {
   "cell_type": "code",
   "execution_count": null,
   "id": "6bc61e59-99a8-47df-a2d0-eb1703bc7aa7",
   "metadata": {},
   "outputs": [],
   "source": [
    "ex07_pb =  ParameterPanel(\n",
    "    alpha = FloatSlider(value=0,min=-np.pi,max=np.pi,step=0.01,description=r'$\\alpha$'),\n",
    "    beta = FloatSlider(value=0,min=0,max=np.pi,step=0.01,description=r'$\\beta$'),\n",
    "    gamma = FloatSlider(value=0,min=-np.pi,max=np.pi,step=0.01,description=r'$\\gamma$'))\n",
    "\n",
    "ex07_fig = plt.figure(tight_layout=True)\n",
    "ax07 = ex07_fig.add_subplot(111)\n",
    "ex07_cuefig = CueFigure(ex07_fig) \n",
    "\n",
    "ex07_cbar = None\n",
    "def update_07(code_exercise):\n",
    "    global ex07_cbar\n",
    "    alpha, beta, gamma = code_exercise.parameters.values()\n",
    "    cue_figure = code_exercise.cue_outputs[0]\n",
    "    ax = cue_figure.figure.get_axes()[0]\n",
    "\n",
    "    ROT = scipy.linalg.block_diag(\n",
    "        wigner_d_real(0, alpha, beta, gamma), \n",
    "        wigner_d_real(1, alpha, beta, gamma), \n",
    "        wigner_d_real(2, alpha, beta, gamma)\n",
    "    )\n",
    "    \n",
    "    fig = code_exercise.cue_outputs[0].figure\n",
    "    ax = fig.get_axes()[0]\n",
    "\n",
    "    cax=ax.matshow(ROT, cmap='seismic', vmin=-1, vmax=1)\n",
    "    if ex07_cbar is None:\n",
    "        ex07_cbar = fig.colorbar(cax, ax=ax, orientation='vertical' )\n",
    "    else:\n",
    "        ex07_cbar.update_normal(cax)\n",
    "\n",
    "    ax.set_xlabel(\"(lm)\")\n",
    "    ax.set_ylabel(\"(lm)\")    "
   ]
  },
  {
   "cell_type": "code",
   "execution_count": null,
   "id": "9d592cc2-a2d5-4c8e-b06e-446ec366c4b0",
   "metadata": {},
   "outputs": [],
   "source": [
    "ex07_code_demo = CodeExercise(\n",
    "            parameters= ex07_pb,            \n",
    "            cue_outputs = [ex07_cuefig],\n",
    "            update_func = update_07,\n",
    "    update_mode=\"continuous\",\n",
    "    #exercise_key=\"04\",\n",
    "    #exercise_registry=exercise_registry,\n",
    "    exercise_title=\"Exercise 07\",\n",
    "    exercise_description=mdwn(\"\")\n",
    ")\n",
    "\n",
    "display(ex07_code_demo)\n",
    "ex07_code_demo.run_update()"
   ]
  },
  {
   "cell_type": "code",
   "execution_count": null,
   "id": "cbf54fad-4b1b-483c-a178-f3967e573205",
   "metadata": {},
   "outputs": [],
   "source": [
    "ex07_txt = TextExercise(\n",
    "    exercise_description=mdwn(r\"\"\"\n",
    "How many multiplications would you have to perform to apply the rotation exploiting \n",
    "the block structure? And how about if you also exploited knowledge that the $l=1$ \n",
    "block is zero?\"\"\"),\n",
    "    exercise_registry=exercise_registry,\n",
    "    exercise_key=\"07\",\n",
    "    exercise_title=\"\"\n",
    ")\n",
    "display(ex07_txt)"
   ]
  },
  {
   "cell_type": "markdown",
   "id": "8222d39a-3f1a-4183-afbc-8706cfec282a",
   "metadata": {},
   "source": [
    "# Equivariance: a primer"
   ]
  },
  {
   "cell_type": "markdown",
   "id": "a8c0be58-838c-42ba-b496-1bd71bcb74ff",
   "metadata": {},
   "source": [
    "_Equivariance_ indicates the property of a function for which the inputs and outputs are subject to the action of the same symmetries, and which commutes with the application of the symmetries, that is: $f(\\hat{S}A) = \\hat{S} f(A)$. _Invariance_ can be seen as a special case, in which  $f(\\hat{S}A) = f(A)$.\n",
    "This section focuses in particular on the case of 3D rotations and inversion - in technical terms the $O(3)$ group symmetries - and their combination with translations - the three-dimensional Euclidean group $E(3)$. "
   ]
  },
  {
   "cell_type": "code",
   "execution_count": null,
   "id": "8fc6bd2c-fe60-4822-9516-10dec456461e",
   "metadata": {},
   "outputs": [],
   "source": [
    "from IPython.display import display, Javascript\n",
    "\n",
    "script = \"\"\"\n",
    "document.querySelectorAll('.jp-Cell-inputWrapper').forEach(function(element) {\n",
    "    element.style.display = ''; // 'none' to hide\n",
    "});\n",
    "\"\"\"\n",
    "display(Javascript(script))"
   ]
  },
  {
   "cell_type": "code",
   "execution_count": null,
   "id": "99cdf90e",
   "metadata": {},
   "outputs": [],
   "source": [
    "# set CSS style for code-hide\n",
    "scwidgets.get_css_style()"
   ]
  },
  {
   "cell_type": "code",
   "execution_count": null,
   "id": "8caa2541",
   "metadata": {},
   "outputs": [],
   "source": [
    "exercise_registry = ExerciseRegistry(filename_prefix=\"module_02\")\n",
    "exercise_registry"
   ]
  },
  {
   "cell_type": "code",
   "execution_count": null,
   "id": "4840621f",
   "metadata": {},
   "outputs": [],
   "source": [
    "check_registry = CheckRegistry()\n",
    "check_registry"
   ]
  },
  {
   "cell_type": "code",
   "execution_count": null,
   "id": "73fea900-ed91-496b-99c2-2b9f2705a387",
   "metadata": {},
   "outputs": [],
   "source": [
    "show_script = \"\"\"\n",
    "document.querySelectorAll('.jp-Cell-inputWrapper').forEach(function(element) {\n",
    "    element.style.display = '';\n",
    "});\n",
    "\"\"\"\n",
    "display(Javascript(show_script))"
   ]
  },
  {
   "cell_type": "code",
   "execution_count": null,
   "id": "351b9723",
   "metadata": {},
   "outputs": [],
   "source": [
    "module_summary = TextExercise(\n",
    "    exercise_description=\"\"\"You can use this box to make general considerations, \n",
    "    or keep track of your doubts and questions about this notebook.\"\"\",\n",
    "    exercise_registry=exercise_registry,\n",
    "    exercise_title=\"Module comments\",\n",
    "    exercise_key=\"00\"\n",
    ")\n",
    "display(module_summary)"
   ]
  },
  {
   "cell_type": "markdown",
   "id": "7563069b-1df0-4df7-88b4-b4ee72ec589c",
   "metadata": {},
   "source": [
    "Let's consider this dataset, which contains a collection of configurations for a single water molecule. The configurations are generated by distorting an equilibrium configuration along the bending mode, and the asymmetric stretching coordinate. Each frame contains also the energy and dipole moment, computed with the Partridge-Schwenke monomer potential ([Partridge, Schwenke, J. Chem. Phys. (1997)](http://doi.org/10.1063/1.473987)). "
   ]
  },
  {
   "cell_type": "code",
   "execution_count": null,
   "id": "b6c8c2e0-ac4b-4368-833f-0c6ca0461098",
   "metadata": {},
   "outputs": [],
   "source": [
    "h2o_frames = ase.io.read(\"data/water_energy-dipole.xyz\", \":\")\n",
    "\n",
    "h2o_energy = np.zeros(len(h2o_frames))\n",
    "h2o_dipole = np.zeros((len(h2o_frames),3))\n",
    "h2o_force = np.zeros((len(h2o_frames),3,3))\n",
    "for fi, f in enumerate(h2o_frames):\n",
    "    h2o_energy[fi] = f.info['energy']\n",
    "    h2o_dipole[fi] = f.info['dipole']\n",
    "    h2o_force[fi] = f.arrays['force']"
   ]
  },
  {
   "cell_type": "markdown",
   "id": "a4b32992-267f-4e58-960a-69401fef0574",
   "metadata": {},
   "source": [
    "<a id=\"data-driven\"> </a>"
   ]
  },
  {
   "cell_type": "code",
   "execution_count": null,
   "id": "476490ea-0b88-40b5-9f4b-98984947c759",
   "metadata": {},
   "outputs": [],
   "source": [
    "ex07_figure, ex07_ax = plt.subplots(1, 2, figsize=(8,4), tight_layout=True)\n",
    "ex07_output = CueFigure(ex07_figure)\n",
    "\n",
    "ex07_xy = frame_iron.positions[selection,:2]\n",
    "ex07_cbar = None\n",
    "def update_07(code_exercise):\n",
    "    global ex07_cbar\n",
    "    rcut, delta, rs = code_exercise.parameters.values()\n",
    "    fig = code_exercise.cue_outputs[0].figure\n",
    "        \n",
    "    ax = fig.get_axes()[0]\n",
    "    ax.axis('off')\n",
    "    vals = np.zeros(len(selection))\n",
    "    acsf=ex03_wci.get_function_object()\n",
    "    for i in tqdm(range(len(vals))):\n",
    "        vals[i] = acsf(neigh_dr[neigh_i[i]:neigh_i[i]+neigh_sz[i]], delta=delta, rs=rs, rcut=rcut)\n",
    "    cax=ax.scatter(ex07_xy[:,0], ex07_xy[:,1], c=vals, marker='.', s=5,\n",
    "                  vmin=vals.min(), vmax = vals.max() )       \n",
    "    \n",
    "    if ex07_cbar is None:\n",
    "        ex07_cbar = fig.colorbar(cax, ax=ax )\n",
    "    else:\n",
    "        ex07_cbar.update_normal(cax)\n",
    "\n",
    "    ax = fig.get_axes()[1]\n",
    "    ax.hist(vals, color='red', bins=50)\n",
    "    ax.set_xlabel(r\"$\\xi$\")\n",
    "    ax.set_ylabel(r\"counts\")\n",
    "\n",
    "ex07_pb =  ParameterPanel(\n",
    "    rcut = FloatSlider(value=5,min=3,max=8,step=0.1,description=r'$r_{cut}$ / Å'),\n",
    "    delta = FloatSlider(value=0.5,min=0.1,max=2,step=0.1,description=r'$\\Delta$ / Å'),\n",
    "    rs = FloatSlider(value=5,min=3,max=8,step=0.1,description=r'$r_s$ / Å'),\n",
    "    )\n",
    "\n",
    "ex07_code_demo = CodeExercise(\n",
    "    parameters= ex07_pb,\n",
    "    cue_outputs = [ex07_output],\n",
    "    update_func = update_07,\n",
    "    update_mode=\"manual\",\n",
    "    #exercise_key=\"07\",\n",
    "    exercise_title=\"Exercise 07: Radial ACSF as a structural fingerprint\",\n",
    "    exercise_description=mdwn(\"\"\"\n",
    "Play around with the ACSF parameters (this exercise uses the function *you* implemented\n",
    "in exercise 03), and see if you can find values that differentiate clearly between liquid-like\n",
    "and solid-like environments.\n",
    "\"\"\"\n",
    "))"
   ]
  },
  {
   "cell_type": "code",
   "execution_count": null,
   "id": "64a4c71e-e0a6-4539-a98c-5384a4edfef9",
   "metadata": {},
   "outputs": [],
   "source": [
    "display(ex07_code_demo)\n",
    "ex07_code_demo.run_update()"
   ]
  },
  {
   "cell_type": "code",
   "execution_count": null,
   "id": "657eae8e-2227-42cc-a5c4-741dd85aed92",
   "metadata": {},
   "outputs": [],
   "source": [
    "ex07b_txt = TextExercise(\n",
    "    exercise_description=\"\"\"\n",
    "Observe the variability in the descriptor values.\n",
    "Why do you think it's hard to find good values for the ACSF to make it good at discriminating?\n",
    "Think also at the radial function plots in exercise 02.\n",
    "    \"\"\",\n",
    "    exercise_registry=exercise_registry,\n",
    "    exercise_key=\"07b\",\n",
    "    exercise_title=\"\"\n",
    ")\n",
    "display(ex07b_txt)"
   ]
  }
 ],
 "metadata": {
  "kernelspec": {
   "display_name": "Python 3 (ipykernel)",
   "language": "python",
   "name": "python3"
  },
  "language_info": {
   "codemirror_mode": {
    "name": "ipython",
    "version": 3
   },
   "file_extension": ".py",
   "mimetype": "text/x-python",
   "name": "python",
   "nbconvert_exporter": "python",
   "pygments_lexer": "ipython3",
   "version": "3.10.12"
  }
 },
 "nbformat": 4,
 "nbformat_minor": 5
}
